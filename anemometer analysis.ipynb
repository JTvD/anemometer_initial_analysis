{
 "cells": [
  {
   "cell_type": "markdown",
   "id": "c0320ff9",
   "metadata": {},
   "source": [
    "# Analysis for an Anemometer\n",
    "Developed for the ATMOS22, which small size made it ideal for climatecell experiments."
   ]
  },
  {
   "cell_type": "code",
   "execution_count": 1,
   "id": "e6d24da5",
   "metadata": {},
   "outputs": [],
   "source": [
    "import pandas as pd\n",
    "import plotly.graph_objects as go\n",
    "from plotly.subplots import make_subplots"
   ]
  },
  {
   "cell_type": "markdown",
   "id": "6091204f",
   "metadata": {},
   "source": [
    "Load datasets, and check it out:"
   ]
  },
  {
   "cell_type": "code",
   "execution_count": 2,
   "id": "f080eda1",
   "metadata": {},
   "outputs": [],
   "source": [
    "columns = ['datetime','windSpeed','windDirection','gustWindSpeed','airTemperature','xOrientation','yOrientation','NorthWindSpeed','EastWindSpeed']\n",
    "file = \"test_data/Tests_G4_G7/LOGGER32.csv\"\n",
    "wind_df = pd.read_csv(file, names=columns,header=None, skiprows=1)\n",
    "#wind_df = pd.concat(map(lambda file, i: pd.read_csv(file,names=columns,header=None, skiprows=1), input_files, index))\n",
    "wind_df['datetime'] =  pd.to_datetime(wind_df['datetime'])"
   ]
  },
  {
   "cell_type": "code",
   "execution_count": null,
   "id": "0a02a96a",
   "metadata": {},
   "outputs": [],
   "source": [
    "wind_df.dtypes"
   ]
  },
  {
   "cell_type": "code",
   "execution_count": null,
   "id": "54b89b68",
   "metadata": {},
   "outputs": [],
   "source": [
    "wind_df"
   ]
  },
  {
   "cell_type": "markdown",
   "id": "9bcd5faa",
   "metadata": {},
   "source": [
    "It looks like the tilt sensor has a timing issue, occasionally retuning: -9990.0. Ardiuno retransmits if this happens, but still good to check for it.  "
   ]
  },
  {
   "cell_type": "code",
   "execution_count": null,
   "id": "918bfbb7",
   "metadata": {},
   "outputs": [],
   "source": [
    "# Drop the tow with a -9990 value\n",
    "rows_with_negative_990 = wind_df[(wind_df == -9990.0).any(axis=1)]\n",
    "wind_df = wind_df.drop(rows_with_negative_990.index)\n",
    "rows_with_negative_990"
   ]
  },
  {
   "cell_type": "code",
   "execution_count": null,
   "id": "32d1b9a6",
   "metadata": {},
   "outputs": [],
   "source": [
    "# Tilt\n",
    "fig = make_subplots()\n",
    "fig.add_trace(go.Scatter(x = wind_df['datetime'], y=wind_df['xOrientation'], mode = 'lines', name = 'xOrientation'))\n",
    "fig.add_trace(go.Scatter(x = wind_df['datetime'], y=wind_df['yOrientation'], mode = 'lines', name = 'yOrientation'))\n",
    "fig.update_layout(title_text=f\"Anemometer tilt\")\n",
    "fig.update_layout(xaxis_title=\"Datetime\", yaxis_title=\"Tilt (degrees)\")\n",
    "\n",
    "# Interactivity\n",
    "fig.update_layout(\n",
    "        hovermode=\"x unified\", #show trace line\n",
    "        xaxis=dict( # Buttons at the top\n",
    "        rangeselector=dict(\n",
    "            buttons=list([\n",
    "                dict(count=1, label=\"day\", step=\"day\",stepmode=\"backward\"),\n",
    "                dict(step=\"all\")\n",
    "            ])\n",
    "        ),\n",
    "        rangeslider = dict(visible=True), type=\"date\")\n",
    ")\n",
    "# Save graph\n",
    "fig.write_html('tilt.html')\n",
    "# show graph\n",
    "fig.show()"
   ]
  },
  {
   "cell_type": "code",
   "execution_count": null,
   "id": "379fca37",
   "metadata": {},
   "outputs": [],
   "source": [
    "# Windspeed and direction\n",
    "fig = make_subplots(specs=[[{\"secondary_y\": True}]])\n",
    "fig.add_trace(go.Scatter(x = wind_df['datetime'], y=wind_df['windSpeed'], mode = 'lines', name = 'windspeed'), secondary_y=False)\n",
    "fig.add_trace(go.Scatter(x = wind_df['datetime'], y=wind_df['NorthWindSpeed'], mode = 'lines', name = 'NorthWindSpeed'), secondary_y=False)\n",
    "fig.add_trace(go.Scatter(x = wind_df['datetime'], y=wind_df['EastWindSpeed'], mode = 'lines', name = 'EastWindSpeed'), secondary_y=False)\n",
    "fig.add_trace(go.Scatter(x = wind_df['datetime'], y=wind_df['gustWindSpeed'], mode = 'lines', name = 'gusts'), secondary_y=False)\n",
    "fig.add_trace(go.Scatter(x = wind_df['datetime'], y=wind_df['windDirection'], mode = 'lines', name = 'windDirection', opacity=0.5), secondary_y=True)\n",
    "fig.update_layout(title_text=f\"Windspeed and direction\")\n",
    "fig.update_layout(xaxis_title=\"Datetime\", yaxis_title=\"Windspeed (m/s)\")\n",
    "fig.update_yaxes(title_text=\"winddirection (degrees)\", secondary_y=True)\n",
    "\n",
    "# Interactivity\n",
    "fig.update_layout(\n",
    "        hovermode=\"x unified\", #show trace line\n",
    "        xaxis=dict( # Buttons at the top\n",
    "        rangeselector=dict(\n",
    "            buttons=list([\n",
    "                dict(count=1, label=\"day\", step=\"day\",stepmode=\"backward\"),\n",
    "                dict(step=\"all\")\n",
    "            ])\n",
    "        ),\n",
    "        rangeslider = dict(visible=True), type=\"date\"),\n",
    "        yaxis = dict(\n",
    "             fixedrange = False\n",
    ")\n",
    ")\n",
    "# Save graph\n",
    "fig.write_html('windspeed.html')\n",
    "# show graph\n",
    "fig.show()"
   ]
  },
  {
   "cell_type": "code",
   "execution_count": null,
   "id": "19d1cbee",
   "metadata": {},
   "outputs": [],
   "source": [
    "# Airtemperature & Windspeed\n",
    "fig = make_subplots(specs=[[{\"secondary_y\": True}]])\n",
    "fig.add_trace(go.Scatter(x = wind_df['datetime'], y=wind_df['windSpeed'], mode = 'lines', name = 'windspeed'), secondary_y=False)\n",
    "fig.add_trace(go.Scatter(x = wind_df['datetime'], y=wind_df['NorthWindSpeed'], mode = 'lines', name = 'NorthWindSpeed'), secondary_y=False)\n",
    "fig.add_trace(go.Scatter(x = wind_df['datetime'], y=wind_df['EastWindSpeed'], mode = 'lines', name = 'EastWindSpeed'), secondary_y=False)\n",
    "fig.add_trace(go.Scatter(x = wind_df['datetime'], y=wind_df['gustWindSpeed'], mode = 'lines', name = 'gusts'), secondary_y=False)\n",
    "fig.add_trace(go.Scatter(x = wind_df['datetime'], y=wind_df['airTemperature'], mode = 'lines', name = 'Temperature'), secondary_y=True)\n",
    "fig.update_layout(title_text=f\"Air temperature\")\n",
    "fig.update_layout(xaxis_title=\"Datetime\", yaxis_title=\"Temperature (degrees)\")\n",
    "\n",
    "# Interactivity\n",
    "fig.update_layout(\n",
    "        hovermode=\"x unified\", #show trace line\n",
    "        xaxis=dict( # Buttons at the top\n",
    "        rangeselector=dict(\n",
    "            buttons=list([\n",
    "                dict(count=1, label=\"day\", step=\"day\",stepmode=\"backward\"),\n",
    "                dict(step=\"all\")\n",
    "            ])\n",
    "        ),\n",
    "        rangeslider = dict(visible=True), type=\"date\"),\n",
    "        yaxis = dict(\n",
    "             fixedrange = False\n",
    ")\n",
    ")\n",
    "# Save graph\n",
    "fig.write_html('airtemperature.html')\n",
    "# show graph\n",
    "fig.show()"
   ]
  },
  {
   "cell_type": "code",
   "execution_count": null,
   "id": "ff1d71e0",
   "metadata": {},
   "outputs": [],
   "source": [
    "# wind rose chart (also known as a polar bar chart)\n",
    "# ref: https://plotly.com/python/wind-rose-charts/\n",
    "# can only show a few data points, therefore it is advised to either select 10 points or less\n",
    "# Alternatively the data can be resampled\n",
    "wind_subdf = wind_df.head(10)\n",
    "\n",
    "#wind_subdf = wind_df.head(1000)\n",
    "#wind_subdf.set_index('datetime', inplace=True)\n",
    "#wind_subdf = wind_subdf.resample('H').mean()\n",
    "\n",
    "fig = go.Figure()\n",
    "fig.add_trace(go.Barpolar(\n",
    "    r=wind_subdf['windSpeed'],\n",
    "    theta=wind_subdf['windDirection'],\n",
    "    name='Wind Speed',\n",
    "    marker_color='blue',\n",
    "    marker_line_width=5\n",
    "))\n",
    "\n",
    "# Add gustWindSpeed as an overlay\n",
    "fig.add_trace(go.Barpolar(\n",
    "    r=wind_subdf['gustWindSpeed'],\n",
    "    theta=wind_subdf['windDirection'],\n",
    "    name='Gust Wind Speed',\n",
    "    marker_color='red',\n",
    "    marker_line_width=5,\n",
    "    opacity=0.5\n",
    "    \n",
    "))\n",
    "\n",
    "fig.update_layout(\n",
    "    title='Wind Rose Chart with Gust Wind Speed Overlay',\n",
    "    polar=dict(\n",
    "        radialaxis=dict(visible=True)\n",
    "    )\n",
    ")\n",
    "# Save graph\n",
    "fig.write_html('wind_rose.html')\n",
    "# show graph\n",
    "fig.show()"
   ]
  }
 ],
 "metadata": {
  "kernelspec": {
   "display_name": "venv",
   "language": "python",
   "name": "python3"
  },
  "language_info": {
   "codemirror_mode": {
    "name": "ipython",
    "version": 3
   },
   "file_extension": ".py",
   "mimetype": "text/x-python",
   "name": "python",
   "nbconvert_exporter": "python",
   "pygments_lexer": "ipython3",
   "version": "3.11.9"
  }
 },
 "nbformat": 4,
 "nbformat_minor": 5
}
